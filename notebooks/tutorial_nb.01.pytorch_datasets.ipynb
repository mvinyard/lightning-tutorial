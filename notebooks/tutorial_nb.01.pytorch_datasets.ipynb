{
 "cells": [
  {
   "cell_type": "code",
   "execution_count": 6,
   "metadata": {},
   "outputs": [
    {
     "name": "stdout",
     "output_type": "stream",
     "text": [
      "The nb_black extension is already loaded. To reload it, use:\n",
      "  %reload_ext nb_black\n"
     ]
    },
    {
     "data": {
      "application/javascript": [
       "\n",
       "            setTimeout(function() {\n",
       "                var nbb_cell_id = 6;\n",
       "                var nbb_unformatted_code = \"%load_ext nb_black\\n\\nimport lightning_tutorial as lt\\nimport torch\\nimport numpy as np\";\n",
       "                var nbb_formatted_code = \"%load_ext nb_black\\n\\nimport lightning_tutorial as lt\\nimport torch\\nimport numpy as np\";\n",
       "                var nbb_cells = Jupyter.notebook.get_cells();\n",
       "                for (var i = 0; i < nbb_cells.length; ++i) {\n",
       "                    if (nbb_cells[i].input_prompt_number == nbb_cell_id) {\n",
       "                        if (nbb_cells[i].get_text() == nbb_unformatted_code) {\n",
       "                             nbb_cells[i].set_text(nbb_formatted_code);\n",
       "                        }\n",
       "                        break;\n",
       "                    }\n",
       "                }\n",
       "            }, 500);\n",
       "            "
      ],
      "text/plain": [
       "<IPython.core.display.Javascript object>"
      ]
     },
     "metadata": {},
     "output_type": "display_data"
    }
   ],
   "source": [
    "%load_ext nb_black\n",
    "\n",
    "import lightning_tutorial as lt\n",
    "import torch\n",
    "import numpy as np"
   ]
  },
  {
   "cell_type": "code",
   "execution_count": 7,
   "metadata": {},
   "outputs": [
    {
     "name": "stdout",
     "output_type": "stream",
     "text": [
      "AnnData object with n_obs × n_vars = 2638 × 1838\n",
      "    obs: 'n_genes', 'percent_mito', 'n_counts', 'louvain', 'cell_type_idx'\n",
      "    var: 'n_cells'\n",
      "    uns: 'draw_graph', 'louvain', 'louvain_colors', 'neighbors', 'pca', 'rank_genes_groups'\n",
      "    obsm: 'X_pca', 'X_tsne', 'X_umap', 'X_draw_graph_fr'\n",
      "    varm: 'PCs'\n",
      "    obsp: 'distances', 'connectivities'\n"
     ]
    },
    {
     "data": {
      "application/javascript": [
       "\n",
       "            setTimeout(function() {\n",
       "                var nbb_cell_id = 7;\n",
       "                var nbb_unformatted_code = \"adata = lt.data.pbmc3k()\";\n",
       "                var nbb_formatted_code = \"adata = lt.data.pbmc3k()\";\n",
       "                var nbb_cells = Jupyter.notebook.get_cells();\n",
       "                for (var i = 0; i < nbb_cells.length; ++i) {\n",
       "                    if (nbb_cells[i].input_prompt_number == nbb_cell_id) {\n",
       "                        if (nbb_cells[i].get_text() == nbb_unformatted_code) {\n",
       "                             nbb_cells[i].set_text(nbb_formatted_code);\n",
       "                        }\n",
       "                        break;\n",
       "                    }\n",
       "                }\n",
       "            }, 500);\n",
       "            "
      ],
      "text/plain": [
       "<IPython.core.display.Javascript object>"
      ]
     },
     "metadata": {},
     "output_type": "display_data"
    }
   ],
   "source": [
    "adata = lt.data.pbmc3k()"
   ]
  },
  {
   "cell_type": "markdown",
   "metadata": {},
   "source": [
    "### Define a custom `Dataset` for our `adata`-based cell data:"
   ]
  },
  {
   "cell_type": "code",
   "execution_count": 8,
   "metadata": {},
   "outputs": [
    {
     "data": {
      "application/javascript": [
       "\n",
       "            setTimeout(function() {\n",
       "                var nbb_cell_id = 8;\n",
       "                var nbb_unformatted_code = \"from torch.utils.data import Dataset\\n\\n\\nclass CellDataset(Dataset):\\n    def __init__(self, adata):\\n        self.adata = adata\\n        self.n_cells = adata.shape[0]\\n        self.n_genes = adata.shape[1]\\n\\n        ### format the data - must be torch.Tensor\\n        self.X = torch.Tensor(adata.X)\\n        self.y = torch.Tensor(adata.obs[\\\"cell_type_idx\\\"].values)\\n\\n    def __len__(self):\\n        return self.n_cells\\n\\n    def __getitem__(self, idx):\\n        return self.X[idx], self.y[idx]\";\n",
       "                var nbb_formatted_code = \"from torch.utils.data import Dataset\\n\\n\\nclass CellDataset(Dataset):\\n    def __init__(self, adata):\\n        self.adata = adata\\n        self.n_cells = adata.shape[0]\\n        self.n_genes = adata.shape[1]\\n\\n        ### format the data - must be torch.Tensor\\n        self.X = torch.Tensor(adata.X)\\n        self.y = torch.Tensor(adata.obs[\\\"cell_type_idx\\\"].values)\\n\\n    def __len__(self):\\n        return self.n_cells\\n\\n    def __getitem__(self, idx):\\n        return self.X[idx], self.y[idx]\";\n",
       "                var nbb_cells = Jupyter.notebook.get_cells();\n",
       "                for (var i = 0; i < nbb_cells.length; ++i) {\n",
       "                    if (nbb_cells[i].input_prompt_number == nbb_cell_id) {\n",
       "                        if (nbb_cells[i].get_text() == nbb_unformatted_code) {\n",
       "                             nbb_cells[i].set_text(nbb_formatted_code);\n",
       "                        }\n",
       "                        break;\n",
       "                    }\n",
       "                }\n",
       "            }, 500);\n",
       "            "
      ],
      "text/plain": [
       "<IPython.core.display.Javascript object>"
      ]
     },
     "metadata": {},
     "output_type": "display_data"
    }
   ],
   "source": [
    "from torch.utils.data import Dataset\n",
    "\n",
    "\n",
    "class CellDataset(Dataset):\n",
    "    def __init__(self, adata):\n",
    "        self.adata = adata\n",
    "        self.n_cells = adata.shape[0]\n",
    "        self.n_genes = adata.shape[1]\n",
    "\n",
    "        ### format the data - must be torch.Tensor\n",
    "        self.X = torch.Tensor(adata.X)\n",
    "        self.y = torch.Tensor(adata.obs[\"cell_type_idx\"].values)\n",
    "\n",
    "    def __len__(self):\n",
    "        return self.n_cells\n",
    "\n",
    "    def __getitem__(self, idx):\n",
    "        return self.X[idx], self.y[idx]"
   ]
  },
  {
   "cell_type": "markdown",
   "metadata": {},
   "source": [
    "### Instantiate the dataset by passing `adata`"
   ]
  },
  {
   "cell_type": "code",
   "execution_count": 9,
   "metadata": {
    "colab": {
     "base_uri": "https://localhost:8080/",
     "height": 17
    },
    "id": "ps9XXCVZzGhq",
    "outputId": "6ee13faf-6069-406b-a579-832543b28cc7"
   },
   "outputs": [
    {
     "data": {
      "application/javascript": [
       "\n",
       "            setTimeout(function() {\n",
       "                var nbb_cell_id = 9;\n",
       "                var nbb_unformatted_code = \"dataset = CellDataset(adata)\";\n",
       "                var nbb_formatted_code = \"dataset = CellDataset(adata)\";\n",
       "                var nbb_cells = Jupyter.notebook.get_cells();\n",
       "                for (var i = 0; i < nbb_cells.length; ++i) {\n",
       "                    if (nbb_cells[i].input_prompt_number == nbb_cell_id) {\n",
       "                        if (nbb_cells[i].get_text() == nbb_unformatted_code) {\n",
       "                             nbb_cells[i].set_text(nbb_formatted_code);\n",
       "                        }\n",
       "                        break;\n",
       "                    }\n",
       "                }\n",
       "            }, 500);\n",
       "            "
      ],
      "text/plain": [
       "<IPython.core.display.Javascript object>"
      ]
     },
     "metadata": {},
     "output_type": "display_data"
    }
   ],
   "source": [
    "dataset = CellDataset(adata)"
   ]
  },
  {
   "cell_type": "markdown",
   "metadata": {},
   "source": [
    "### Let's sample our dataset and examine the outputs"
   ]
  },
  {
   "cell_type": "code",
   "execution_count": 10,
   "metadata": {
    "colab": {
     "base_uri": "https://localhost:8080/",
     "height": 17
    },
    "id": "n1-fo-TXzWYI",
    "outputId": "59efacb5-e6e4-4488-c05c-d6d693ad36c0"
   },
   "outputs": [
    {
     "data": {
      "application/javascript": [
       "\n",
       "            setTimeout(function() {\n",
       "                var nbb_cell_id = 10;\n",
       "                var nbb_unformatted_code = \"idx_size = 200  # take a sample of 200 cells\\nidx = np.random.choice(range(dataset.__len__()), [idx_size])\";\n",
       "                var nbb_formatted_code = \"idx_size = 200  # take a sample of 200 cells\\nidx = np.random.choice(range(dataset.__len__()), [idx_size])\";\n",
       "                var nbb_cells = Jupyter.notebook.get_cells();\n",
       "                for (var i = 0; i < nbb_cells.length; ++i) {\n",
       "                    if (nbb_cells[i].input_prompt_number == nbb_cell_id) {\n",
       "                        if (nbb_cells[i].get_text() == nbb_unformatted_code) {\n",
       "                             nbb_cells[i].set_text(nbb_formatted_code);\n",
       "                        }\n",
       "                        break;\n",
       "                    }\n",
       "                }\n",
       "            }, 500);\n",
       "            "
      ],
      "text/plain": [
       "<IPython.core.display.Javascript object>"
      ]
     },
     "metadata": {},
     "output_type": "display_data"
    }
   ],
   "source": [
    "idx_size = 200  # take a sample of 200 cells\n",
    "idx = np.random.choice(range(dataset.__len__()), [idx_size])"
   ]
  },
  {
   "cell_type": "code",
   "execution_count": 11,
   "metadata": {
    "colab": {
     "base_uri": "https://localhost:8080/",
     "height": 34
    },
    "id": "XZPUdIJa0ZzL",
    "outputId": "e592bd2d-a528-4f05-f10e-3c13ed757f2d"
   },
   "outputs": [
    {
     "data": {
      "text/plain": [
       "(torch.Size([200, 1838]), torch.Size([200]))"
      ]
     },
     "execution_count": 11,
     "metadata": {},
     "output_type": "execute_result"
    },
    {
     "data": {
      "application/javascript": [
       "\n",
       "            setTimeout(function() {\n",
       "                var nbb_cell_id = 11;\n",
       "                var nbb_unformatted_code = \"batch = dataset.__getitem__(idx)\\nX_batch, y_batch = batch[0], batch[1]\\nX_batch.shape, y_batch.shape\";\n",
       "                var nbb_formatted_code = \"batch = dataset.__getitem__(idx)\\nX_batch, y_batch = batch[0], batch[1]\\nX_batch.shape, y_batch.shape\";\n",
       "                var nbb_cells = Jupyter.notebook.get_cells();\n",
       "                for (var i = 0; i < nbb_cells.length; ++i) {\n",
       "                    if (nbb_cells[i].input_prompt_number == nbb_cell_id) {\n",
       "                        if (nbb_cells[i].get_text() == nbb_unformatted_code) {\n",
       "                             nbb_cells[i].set_text(nbb_formatted_code);\n",
       "                        }\n",
       "                        break;\n",
       "                    }\n",
       "                }\n",
       "            }, 500);\n",
       "            "
      ],
      "text/plain": [
       "<IPython.core.display.Javascript object>"
      ]
     },
     "metadata": {},
     "output_type": "display_data"
    }
   ],
   "source": [
    "batch = dataset.__getitem__(idx)\n",
    "X_batch, y_batch = batch[0], batch[1]\n",
    "X_batch.shape, y_batch.shape"
   ]
  },
  {
   "cell_type": "code",
   "execution_count": null,
   "metadata": {},
   "outputs": [],
   "source": []
  }
 ],
 "metadata": {
  "colab": {
   "collapsed_sections": [],
   "provenance": []
  },
  "kernelspec": {
   "display_name": "Python 3 (ipykernel)",
   "language": "python",
   "name": "python3"
  },
  "language_info": {
   "codemirror_mode": {
    "name": "ipython",
    "version": 3
   },
   "file_extension": ".py",
   "mimetype": "text/x-python",
   "name": "python",
   "nbconvert_exporter": "python",
   "pygments_lexer": "ipython3",
   "version": "3.9.13"
  }
 },
 "nbformat": 4,
 "nbformat_minor": 1
}
