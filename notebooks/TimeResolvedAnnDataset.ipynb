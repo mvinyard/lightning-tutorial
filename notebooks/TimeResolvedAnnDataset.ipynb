{
 "cells": [
  {
   "cell_type": "markdown",
   "id": "f70137ba",
   "metadata": {},
   "source": [
    "### Create a `TimeResolvedAnnDataset` from `adata`"
   ]
  },
  {
   "cell_type": "code",
   "execution_count": 1,
   "id": "e2e3816e",
   "metadata": {},
   "outputs": [
    {
     "name": "stdout",
     "output_type": "stream",
     "text": [
      " - [\u001b[94mNOTE\u001b[0m] | Preprocessing performed previously. Loading...done.\n",
      " - [\u001b[94mNOTE\u001b[0m] | Loading previously built (on X_pca) kNN graph\n",
      " - [\u001b[94mNOTE\u001b[0m] | kNN index added to: adata.uns['\u001b[1mannoy_idx\u001b[0m']\n",
      "\n",
      " AnnData object with n_obs × n_vars = 130887 × 25289\n",
      "    obs: 'Library', 'Cell barcode', 'Time point', 'Starting population', 'Cell type annotation', 'Well', 'SPRING-x', 'SPRING-y', 'cell_idx', 'clone_idx', 'early_cells', 'growth_score', 'neu_mo_mask', 'fate_score', 'early_neu_mo'\n",
      "    var: 'gene_name', 'highly_variable', 'corr_cell_cycle', 'pass_filter'\n",
      "    uns: 'LARRY.in_vitro.X_fate', 'data_dir', 'dataset', 'h5ad_path', 'highly_variable_genes_idx', 'n_corr_cell_cycle', 'n_hv', 'n_mito', 'n_pass', 'n_total', 'neu_vs_mo_pct', 'pp_h5ad_path', 'annoy_idx'\n",
      "    obsm: 'X_clone', 'X_pca', 'X_scaled', 'X_umap'\n"
     ]
    }
   ],
   "source": [
    "import larry\n",
    "\n",
    "adata = larry.in_vitro(destination_dir=\"/home/mvinyard/\")"
   ]
  },
  {
   "cell_type": "markdown",
   "id": "85b76eb1",
   "metadata": {},
   "source": [
    "### Creating a dataset with only the `X` component:"
   ]
  },
  {
   "cell_type": "code",
   "execution_count": 2,
   "id": "1c4ec58f",
   "metadata": {},
   "outputs": [
    {
     "data": {
      "text/plain": [
       "54140"
      ]
     },
     "execution_count": 2,
     "metadata": {},
     "output_type": "execute_result"
    }
   ],
   "source": [
    "dataset = TimeResolvedAnnDataset(adata, use_key=\"X_pca\", time_key=\"Time point\")\n",
    "dataset.__len__()"
   ]
  },
  {
   "cell_type": "code",
   "execution_count": 10,
   "id": "b18b58f0",
   "metadata": {},
   "outputs": [
    {
     "data": {
      "text/plain": [
       "torch.Size([3, 54140, 50])"
      ]
     },
     "execution_count": 10,
     "metadata": {},
     "output_type": "execute_result"
    }
   ],
   "source": [
    "dataset.X.shape"
   ]
  },
  {
   "cell_type": "markdown",
   "id": "15ddd8ae",
   "metadata": {},
   "source": [
    "### Creating a dataset with both `X` (data) and `y` (targets/labels) components:"
   ]
  },
  {
   "cell_type": "code",
   "execution_count": 8,
   "id": "e61bd17d",
   "metadata": {},
   "outputs": [
    {
     "data": {
      "text/plain": [
       "54140"
      ]
     },
     "execution_count": 8,
     "metadata": {},
     "output_type": "execute_result"
    }
   ],
   "source": [
    "dataset = TimeResolvedAnnDataset(adata, use_key=\"X_pca\", time_key=\"Time point\", obs_key='Cell type annotation')\n",
    "dataset.__len__()"
   ]
  },
  {
   "cell_type": "code",
   "execution_count": 9,
   "id": "15ddbd0f",
   "metadata": {},
   "outputs": [
    {
     "data": {
      "text/plain": [
       "(torch.Size([3, 54140, 50]), torch.Size([3, 54140, 11]))"
      ]
     },
     "execution_count": 9,
     "metadata": {},
     "output_type": "execute_result"
    }
   ],
   "source": [
    "dataset.X.shape, dataset.y.shape"
   ]
  },
  {
   "cell_type": "markdown",
   "id": "5e899f15",
   "metadata": {},
   "source": [
    "Upon inspection of `dataset.y`, we see that the labels have been one-hot encoded:"
   ]
  },
  {
   "cell_type": "code",
   "execution_count": 11,
   "id": "41c61bc1",
   "metadata": {
    "scrolled": true
   },
   "outputs": [
    {
     "data": {
      "text/plain": [
       "tensor([[[0., 0., 0.,  ..., 0., 1., 0.],\n",
       "         [0., 0., 0.,  ..., 0., 1., 0.],\n",
       "         [0., 0., 0.,  ..., 1., 0., 0.],\n",
       "         ...,\n",
       "         [0., 0., 0.,  ..., 0., 1., 0.],\n",
       "         [0., 0., 0.,  ..., 0., 1., 0.],\n",
       "         [0., 0., 0.,  ..., 0., 1., 0.]],\n",
       "\n",
       "        [[0., 0., 0.,  ..., 1., 0., 0.],\n",
       "         [0., 0., 0.,  ..., 1., 0., 0.],\n",
       "         [0., 0., 0.,  ..., 0., 1., 0.],\n",
       "         ...,\n",
       "         [0., 0., 0.,  ..., 0., 1., 0.],\n",
       "         [0., 0., 0.,  ..., 0., 1., 0.],\n",
       "         [0., 0., 0.,  ..., 0., 0., 0.]],\n",
       "\n",
       "        [[0., 0., 0.,  ..., 0., 1., 0.],\n",
       "         [0., 0., 0.,  ..., 0., 1., 0.],\n",
       "         [0., 0., 0.,  ..., 0., 0., 0.],\n",
       "         ...,\n",
       "         [0., 0., 0.,  ..., 0., 0., 0.],\n",
       "         [0., 0., 0.,  ..., 0., 0., 0.],\n",
       "         [0., 0., 0.,  ..., 0., 1., 0.]]])"
      ]
     },
     "execution_count": 11,
     "metadata": {},
     "output_type": "execute_result"
    }
   ],
   "source": [
    "dataset.y"
   ]
  },
  {
   "cell_type": "code",
   "execution_count": null,
   "id": "85d01da1",
   "metadata": {},
   "outputs": [],
   "source": []
  }
 ],
 "metadata": {
  "kernelspec": {
   "display_name": "Python [conda env:sdq]",
   "language": "python",
   "name": "conda-env-sdq-py"
  },
  "language_info": {
   "codemirror_mode": {
    "name": "ipython",
    "version": 3
   },
   "file_extension": ".py",
   "mimetype": "text/x-python",
   "name": "python",
   "nbconvert_exporter": "python",
   "pygments_lexer": "ipython3",
   "version": "3.9.13"
  }
 },
 "nbformat": 4,
 "nbformat_minor": 5
}
